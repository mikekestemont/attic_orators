{
 "metadata": {
  "name": "",
  "signature": "sha256:53aa8aafe880acbada7437306e4fe9f4ecb8cb9a0bce7783a1c55ac1a41dcabf"
 },
 "nbformat": 3,
 "nbformat_minor": 0,
 "worksheets": [
  {
   "cells": [
    {
     "cell_type": "markdown",
     "metadata": {},
     "source": [
      "We start by importing some of the modules in Python's standard library we will need:"
     ]
    },
    {
     "cell_type": "code",
     "collapsed": false,
     "input": [
      "import glob\n",
      "import os"
     ],
     "language": "python",
     "metadata": {},
     "outputs": [],
     "prompt_number": 42
    },
    {
     "cell_type": "markdown",
     "metadata": {},
     "source": [
      "We define a `slice()` function that will return a list of authors, titles and samples for the texts for our data, given a path to a directory and a sample size. The latter parameter will be used to slice the individual text into consecutive, non-overlapping windows:"
     ]
    },
    {
     "cell_type": "code",
     "collapsed": false,
     "input": [
      "def slice(data_dir, sample_size):\n",
      "    authors, titles, texts = [], [], []\n",
      "    for filename in glob.glob(data_dir+\"/*.txt\"):\n",
      "        text = open(filename, 'r').read()\n",
      "        words = text.lower().split()\n",
      "        # sample:\n",
      "        start_idx, end_idx, cnt = 0, sample_size, 1\n",
      "        author, title = os.path.splitext(\n",
      "                           os.path.basename(filename.lower()))[0].split('_')\n",
      "        while end_idx <= len(words):\n",
      "            authors.append(author)\n",
      "            titles.append(title)\n",
      "            texts.append(words[start_idx:end_idx])\n",
      "            # we update our counters:\n",
      "            cnt += 1\n",
      "            start_idx += sample_size\n",
      "            end_idx += sample_size\n",
      "    return authors, titles, texts"
     ],
     "language": "python",
     "metadata": {},
     "outputs": [],
     "prompt_number": 43
    },
    {
     "cell_type": "markdown",
     "metadata": {},
     "source": [
      "As you can see, `slice()` expects our filenames to have a `.txt`-extension, and that the filenames follow the naming convention: `author_title.txt`, as is the case for our data:"
     ]
    },
    {
     "cell_type": "code",
     "collapsed": false,
     "input": [
      "for fn in glob.glob(\"corpus/*.txt\")[:10]:\n",
      "    print(os.path.basename(fn))"
     ],
     "language": "python",
     "metadata": {},
     "outputs": [
      {
       "output_type": "stream",
       "stream": "stdout",
       "text": [
        "Aeschines_0026001.txt\n",
        "Aeschines_0026002.txt\n",
        "Aeschines_0026003.txt\n",
        "Andocides_0027001.txt\n",
        "Andocides_0027002.txt\n",
        "Andocides_0027003.txt\n",
        "Andocides_0027004.txt\n",
        "Antiphon_0028001.txt\n",
        "Antiphon_0028002.txt\n",
        "Antiphon_0028003.txt\n"
       ]
      }
     ],
     "prompt_number": 44
    },
    {
     "cell_type": "markdown",
     "metadata": {},
     "source": [
      "Then, we call the function for our data:"
     ]
    },
    {
     "cell_type": "code",
     "collapsed": false,
     "input": [
      "authors, titles, texts = slice(data_dir=\"corpus\", sample_size=2500)"
     ],
     "language": "python",
     "metadata": {},
     "outputs": [],
     "prompt_number": 45
    },
    {
     "cell_type": "markdown",
     "metadata": {},
     "source": [
      "The list `authors` now holds the author labels for our samples and `titles` a list of unique title, showing from which text a slice was drawn. The list `texts` contains the list of words for each slice, which was obtained by simple lowercasing the contents of each file, and splitted on whitespace."
     ]
    },
    {
     "cell_type": "code",
     "collapsed": false,
     "input": [
      "for text in texts[:5]:\n",
      "    print(len(text))\n",
      "    print(\" \".join(text[:10]))\n",
      "    print"
     ],
     "language": "python",
     "metadata": {},
     "outputs": [
      {
       "output_type": "stream",
       "stream": "stdout",
       "text": [
        "2500\n",
        "\u03bf\u1f50\u03b4\u03ad\u03bd\u03b1 \u03c0\u03ce\u03c0\u03bf\u03c4\u03b5 \u03c4\u1ff6\u03bd \u03c0\u03bf\u03bb\u03b9\u03c4\u1ff6\u03bd \u1f66 \u1f04\u03bd\u03b4\u03c1\u03b5\u03c2 \u1f00\u03b8\u03b7\u03bd\u03b1\u1fd6\u03bf\u03b9 \u03bf\u1f54\u03c4\u03b5 \u03b3\u03c1\u03b1\u03c6\u1f74\u03bd \u03b3\u03c1\u03b1\u03c8\u03ac\u03bc\u03b5\u03bd\u03bf\u03c2\n",
        "2500\n",
        "\u1f04\u03bb\u03bb\u03b1 \u03ba\u03b1\u03bb\u1f78\u03c2 \u03ba\u1f00\u03b3\u03b1\u03b8\u03cc\u03c2 \u03ba\u03b1\u1f76 \u03bf\u1f50\u03b4\u03b1\u03bc\u1fc7 \u1f04\u03bd \u03c4\u03b9\u03c2 \u03b1\u1f50\u03c4\u1f78\u03bd \u03bc\u03ad\u03bc\u03c8\u03b1\u03b9\u03c4\u03bf \u03c0\u03b5\u03c1\u1f76\n",
        "2500\n",
        "\u1f10\u03ba\u03c1\u03af\u03bd\u03b5\u03c4\u03bf \u03b4\u1f72 \u03c4\u1f78 \u03c0\u03c1\u1fb6\u03b3\u03bc\u03b1 \u1f10\u03bd \u03c4\u1ff7 \u03b4\u03b9\u03ba\u03b1\u03c3\u03c4\u03b7\u03c1\u03af\u1ff3 \u03b5\u1f30\u03c3\u03ae\u03b3\u03b5\u03c4\u03bf \u03b4\u02bc \u03b5\u1f30\u03c2\n",
        "2500\n",
        "\u03ba\u03b1\u1f76 \u03c0\u03c1\u03bf\u1f54\u03b4\u03c9\u03ba\u03b5 \u03c4\u1f78\u03bd \u1f00\u03b3\u1ff6\u03bd\u03b1 \u03ba\u03b1\u1f76 \u03c4\u1f78\u03bd \u1f45\u03c1\u03ba\u03bf\u03bd \u1f10\u03c0\u03b9\u03ce\u03c1\u03ba\u03b7\u03c3\u03b5\u03bd \u1f45\u03c4\u03b9 \u03b4\u02bc\n",
        "2500\n",
        "\u03c0\u03ce\u03c0\u03bf\u03c4\u03b5 \u03b1\u1f50\u03c4\u03bf\u1f7a\u03c2 \u1f14\u03c8\u03b5\u03be\u03b5 \u03c0\u03ac\u03bb\u03b9\u03bd \u1f10\u03ba \u03c4\u1ff6\u03bd \u03bc\u03b5\u03b9\u03c1\u03b1\u03ba\u03af\u03c9\u03bd \u03ba\u03b1\u1f76 \u03c4\u1ff6\u03bd \u1f10\u03bd\n"
       ]
      }
     ],
     "prompt_number": 46
    },
    {
     "cell_type": "markdown",
     "metadata": {},
     "source": [
      "We will now make of the excellent text preprocessing funcionality that comes with the wonderful `sklearn` library. To turn our texts into a relative frequency table, we will pass our document list the `TfidfVectorizer`, which can be imported like this:"
     ]
    },
    {
     "cell_type": "code",
     "collapsed": false,
     "input": [
      "from sklearn.feature_extraction.text import TfidfVectorizer"
     ],
     "language": "python",
     "metadata": {},
     "outputs": [],
     "prompt_number": 47
    },
    {
     "cell_type": "markdown",
     "metadata": {},
     "source": [
      "Our texts have already been tokenized: to override `sklearn`'s standard text preprocessor, we will construct a dummy-analyzer of our own: "
     ]
    },
    {
     "cell_type": "code",
     "collapsed": false,
     "input": [
      "def identity(document):\n",
      "    return document"
     ],
     "language": "python",
     "metadata": {},
     "outputs": [],
     "prompt_number": 48
    },
    {
     "cell_type": "markdown",
     "metadata": {},
     "source": [
      "We can now pass this dummy function as the `analyzer` to our vectorizer. Additionally, to make sure that we obtain simple relative frequencies, we set to `False` when fitting initializing the vectorizer."
     ]
    },
    {
     "cell_type": "code",
     "collapsed": false,
     "input": [
      "vectorizer = TfidfVectorizer(analyzer=identity, use_idf=False, max_features=50)\n",
      "X = vectorizer.fit_transform(texts).toarray()"
     ],
     "language": "python",
     "metadata": {},
     "outputs": [],
     "prompt_number": 49
    },
    {
     "cell_type": "markdown",
     "metadata": {},
     "source": [
      "Just to make sure that we aren't dealing with sparse matrices, we call toarray() on the resulting matrix. If we now print the shape of the frequency matrix which was returned by the vectorizer, we will see that it has a row for each document, a 100 feature columns."
     ]
    },
    {
     "cell_type": "code",
     "collapsed": false,
     "input": [
      "print(X.shape)\n",
      "print(X.shape[0] == len(texts))"
     ],
     "language": "python",
     "metadata": {},
     "outputs": [
      {
       "output_type": "stream",
       "stream": "stdout",
       "text": [
        "(148, 50)\n",
        "True\n"
       ]
      }
     ],
     "prompt_number": 50
    },
    {
     "cell_type": "markdown",
     "metadata": {},
     "source": [
      "The latter dimension amounts to 100 columns, which results from the fact that we set `max_features` at 100 when creating the vectorizer, so that only the frequencies of the 100 words will be included, which had the highest cumulative frequencies in our documents. We can inspect these as follows:  "
     ]
    },
    {
     "cell_type": "code",
     "collapsed": false,
     "input": [
      "print(\" - \".join(vectorizer.get_feature_names()))"
     ],
     "language": "python",
     "metadata": {},
     "outputs": [
      {
       "output_type": "stream",
       "stream": "stdout",
       "text": [
        "\u03b3\u1f70\u03c1 - \u03b4\u02bc - \u03b4\u03b9\u1f70 - \u03b4\u1f72 - \u03b5\u1f30 - \u03b5\u1f30\u03c2 - \u03b5\u1f36\u03bd\u03b1\u03b9 - \u03ba\u03b1\u1f76 - \u03bc\u1f72\u03bd - \u03bc\u1f74 - \u03bf\u1f31 - \u03bf\u1f50 - \u03bf\u1f50\u03ba - \u03bf\u1f56\u03bd - \u03c0\u03b5\u03c1\u1f76 - \u03c0\u03c1\u1f78\u03c2 - \u03c4\u03b1\u1fe6\u03c4\u03b1 - \u03c4\u03b5 - \u03c4\u03b9 - \u03c4\u03b9\u03c2 - \u03c4\u03bf\u03cd\u03c4\u03c9\u03bd - \u03c4\u03bf\u1f7a\u03c2 - \u03c4\u03bf\u1fd6\u03c2 - \u03c4\u03bf\u1fe6 - \u03c4\u1f70 - \u03c4\u1f70\u03c2 - \u03c4\u1f74\u03bd - \u03c4\u1f78 - \u03c4\u1f78\u03bd - \u03c4\u1fc6\u03c2 - \u03c4\u1fc7 - \u03c4\u1ff6\u03bd - \u03c4\u1ff7 - \u1f00\u03bb\u03bb\u02bc - \u1f00\u03bb\u03bb\u1f70 - \u1f02\u03bd - \u1f04\u03bd\u03b4\u03c1\u03b5\u03c2 - \u1f10\u03b3\u1f7c - \u1f10\u03ba - \u1f10\u03bd - \u1f10\u03c0\u1f76 - \u1f22 - \u1f26\u03bd - \u1f41 - \u1f45\u03c4\u03b9 - \u1f51\u03bc\u1fb6\u03c2 - \u1f51\u03bc\u1fd6\u03bd - \u1f61\u03c2 - \u1f66 - \u1f67\u03bd\n"
       ]
      }
     ],
     "prompt_number": 57
    },
    {
     "cell_type": "markdown",
     "metadata": {},
     "source": [
      "As could be expected, the most frequent items in our collection are all shorter function words. Let us now have a look on whether we can use these function words to discriminate between some of the more prolific orators in our corpus, such as Demosthenes and Isaeus. We start by selecting the relevant subset of our data:"
     ]
    },
    {
     "cell_type": "code",
     "collapsed": false,
     "input": [
      "sel_authors, sel_titles, sel_X = [], [], []\n",
      "for author, title, text in zip(authors, titles, X):\n",
      "    if author in (\"isocrates\", \"demosthenes\"):\n",
      "        sel_authors.append(author)\n",
      "        sel_titles.append(title)\n",
      "        sel_X.append(text)\n",
      "print(len(sel_X))"
     ],
     "language": "python",
     "metadata": {},
     "outputs": [
      {
       "output_type": "stream",
       "stream": "stdout",
       "text": [
        "109\n"
       ]
      }
     ],
     "prompt_number": 58
    },
    {
     "cell_type": "markdown",
     "metadata": {},
     "source": [
      "Apparently, we have ??? 1000-word slices for these authors. Let us first scale the frequencies, using `sklearn`'s `StandardScaler`. Since each feature will be independently scaled inside its column, this helps us ensure that the more frequent features will not become too dominant in the analysis."
     ]
    },
    {
     "cell_type": "code",
     "collapsed": false,
     "input": [
      "from sklearn.preprocessing import StandardScaler\n",
      "sel_X = StandardScaler().fit_transform(sel_X)"
     ],
     "language": "python",
     "metadata": {},
     "outputs": [],
     "prompt_number": 60
    },
    {
     "cell_type": "markdown",
     "metadata": {},
     "source": [
      "Let's run a standard cluster analysis on this subset of our data. We first calculate a distance matrix:"
     ]
    },
    {
     "cell_type": "code",
     "collapsed": false,
     "input": [
      "from sklearn.metrics.pairwise import euclidean_distances\n",
      "distance_matrix = euclidean_distances(sel_X)"
     ],
     "language": "python",
     "metadata": {},
     "outputs": [],
     "prompt_number": 61
    },
    {
     "cell_type": "markdown",
     "metadata": {},
     "source": [
      "We now create dendrogram. Using scipy you can easily create such a dendrogram out of thin air:"
     ]
    },
    {
     "cell_type": "code",
     "collapsed": false,
     "input": [
      "from scipy.cluster.hierarchy import ward, dendrogram\n",
      "linkage_matrix = ward(distance_matrix)\n",
      "dendrogram(linkage_matrix, orientation=\"right\", labels=sel_authors, leaf_font_size=6)"
     ],
     "language": "python",
     "metadata": {},
     "outputs": [
      {
       "ename": "AttributeError",
       "evalue": "'FigureCanvasAgg' object has no attribute 'invalidate'",
       "output_type": "pyerr",
       "traceback": [
        "\u001b[0;31m---------------------------------------------------------------------------\u001b[0m\n\u001b[0;31mAttributeError\u001b[0m                            Traceback (most recent call last)",
        "\u001b[0;32m<ipython-input-62-fc443e6198a4>\u001b[0m in \u001b[0;36m<module>\u001b[0;34m()\u001b[0m\n\u001b[1;32m      1\u001b[0m \u001b[0;32mfrom\u001b[0m \u001b[0mscipy\u001b[0m\u001b[0;34m.\u001b[0m\u001b[0mcluster\u001b[0m\u001b[0;34m.\u001b[0m\u001b[0mhierarchy\u001b[0m \u001b[0;32mimport\u001b[0m \u001b[0mward\u001b[0m\u001b[0;34m,\u001b[0m \u001b[0mdendrogram\u001b[0m\u001b[0;34m\u001b[0m\u001b[0m\n\u001b[1;32m      2\u001b[0m \u001b[0mlinkage_matrix\u001b[0m \u001b[0;34m=\u001b[0m \u001b[0mward\u001b[0m\u001b[0;34m(\u001b[0m\u001b[0mdistance_matrix\u001b[0m\u001b[0;34m)\u001b[0m\u001b[0;34m\u001b[0m\u001b[0m\n\u001b[0;32m----> 3\u001b[0;31m \u001b[0mdendrogram\u001b[0m\u001b[0;34m(\u001b[0m\u001b[0mlinkage_matrix\u001b[0m\u001b[0;34m,\u001b[0m \u001b[0morientation\u001b[0m\u001b[0;34m=\u001b[0m\u001b[0;34m\"right\"\u001b[0m\u001b[0;34m,\u001b[0m \u001b[0mlabels\u001b[0m\u001b[0;34m=\u001b[0m\u001b[0msel_authors\u001b[0m\u001b[0;34m,\u001b[0m \u001b[0mleaf_font_size\u001b[0m\u001b[0;34m=\u001b[0m\u001b[0;36m6\u001b[0m\u001b[0;34m)\u001b[0m\u001b[0;34m\u001b[0m\u001b[0m\n\u001b[0m",
        "\u001b[0;32m/Users/mike/anaconda/lib/python3.4/site-packages/scipy/cluster/hierarchy.py\u001b[0m in \u001b[0;36mdendrogram\u001b[0;34m(Z, p, truncate_mode, color_threshold, get_leaves, orientation, labels, count_sort, distance_sort, show_leaf_counts, no_plot, no_labels, color_list, leaf_font_size, leaf_rotation, leaf_label_func, no_leaves, show_contracted, link_color_func, ax)\u001b[0m\n\u001b[1;32m   2186\u001b[0m                          \u001b[0mleaf_rotation\u001b[0m\u001b[0;34m=\u001b[0m\u001b[0mleaf_rotation\u001b[0m\u001b[0;34m,\u001b[0m\u001b[0;34m\u001b[0m\u001b[0m\n\u001b[1;32m   2187\u001b[0m                          \u001b[0mcontraction_marks\u001b[0m\u001b[0;34m=\u001b[0m\u001b[0mcontraction_marks\u001b[0m\u001b[0;34m,\u001b[0m\u001b[0;34m\u001b[0m\u001b[0m\n\u001b[0;32m-> 2188\u001b[0;31m                          ax=ax)\n\u001b[0m\u001b[1;32m   2189\u001b[0m \u001b[0;34m\u001b[0m\u001b[0m\n\u001b[1;32m   2190\u001b[0m     \u001b[0;32mreturn\u001b[0m \u001b[0mR\u001b[0m\u001b[0;34m\u001b[0m\u001b[0m\n",
        "\u001b[0;32m/Users/mike/anaconda/lib/python3.4/site-packages/scipy/cluster/hierarchy.py\u001b[0m in \u001b[0;36m_plot_dendrogram\u001b[0;34m(icoords, dcoords, ivl, p, n, mh, orientation, no_labels, color_list, leaf_font_size, leaf_rotation, contraction_marks, ax)\u001b[0m\n\u001b[1;32m   1862\u001b[0m \u001b[0;34m\u001b[0m\u001b[0m\n\u001b[1;32m   1863\u001b[0m     \u001b[0;32mif\u001b[0m \u001b[0mtrigger_redraw\u001b[0m\u001b[0;34m:\u001b[0m\u001b[0;34m\u001b[0m\u001b[0m\n\u001b[0;32m-> 1864\u001b[0;31m         \u001b[0mmatplotlib\u001b[0m\u001b[0;34m.\u001b[0m\u001b[0mpylab\u001b[0m\u001b[0;34m.\u001b[0m\u001b[0mdraw_if_interactive\u001b[0m\u001b[0;34m(\u001b[0m\u001b[0;34m)\u001b[0m\u001b[0;34m\u001b[0m\u001b[0m\n\u001b[0m\u001b[1;32m   1865\u001b[0m \u001b[0;34m\u001b[0m\u001b[0m\n\u001b[1;32m   1866\u001b[0m \u001b[0m_link_line_colors\u001b[0m \u001b[0;34m=\u001b[0m \u001b[0;34m[\u001b[0m\u001b[0;34m'g'\u001b[0m\u001b[0;34m,\u001b[0m \u001b[0;34m'r'\u001b[0m\u001b[0;34m,\u001b[0m \u001b[0;34m'c'\u001b[0m\u001b[0;34m,\u001b[0m \u001b[0;34m'm'\u001b[0m\u001b[0;34m,\u001b[0m \u001b[0;34m'y'\u001b[0m\u001b[0;34m,\u001b[0m \u001b[0;34m'k'\u001b[0m\u001b[0;34m]\u001b[0m\u001b[0;34m\u001b[0m\u001b[0m\n",
        "\u001b[0;32m/Users/mike/anaconda/lib/python3.4/site-packages/IPython/utils/decorators.py\u001b[0m in \u001b[0;36mwrapper\u001b[0;34m(*args, **kw)\u001b[0m\n\u001b[1;32m     41\u001b[0m     \u001b[0;32mdef\u001b[0m \u001b[0mwrapper\u001b[0m\u001b[0;34m(\u001b[0m\u001b[0;34m*\u001b[0m\u001b[0margs\u001b[0m\u001b[0;34m,\u001b[0m\u001b[0;34m**\u001b[0m\u001b[0mkw\u001b[0m\u001b[0;34m)\u001b[0m\u001b[0;34m:\u001b[0m\u001b[0;34m\u001b[0m\u001b[0m\n\u001b[1;32m     42\u001b[0m         \u001b[0mwrapper\u001b[0m\u001b[0;34m.\u001b[0m\u001b[0mcalled\u001b[0m \u001b[0;34m=\u001b[0m \u001b[0;32mFalse\u001b[0m\u001b[0;34m\u001b[0m\u001b[0m\n\u001b[0;32m---> 43\u001b[0;31m         \u001b[0mout\u001b[0m \u001b[0;34m=\u001b[0m \u001b[0mfunc\u001b[0m\u001b[0;34m(\u001b[0m\u001b[0;34m*\u001b[0m\u001b[0margs\u001b[0m\u001b[0;34m,\u001b[0m\u001b[0;34m**\u001b[0m\u001b[0mkw\u001b[0m\u001b[0;34m)\u001b[0m\u001b[0;34m\u001b[0m\u001b[0m\n\u001b[0m\u001b[1;32m     44\u001b[0m         \u001b[0mwrapper\u001b[0m\u001b[0;34m.\u001b[0m\u001b[0mcalled\u001b[0m \u001b[0;34m=\u001b[0m \u001b[0;32mTrue\u001b[0m\u001b[0;34m\u001b[0m\u001b[0m\n\u001b[1;32m     45\u001b[0m         \u001b[0;32mreturn\u001b[0m \u001b[0mout\u001b[0m\u001b[0;34m\u001b[0m\u001b[0m\n",
        "\u001b[0;32m/Users/mike/anaconda/lib/python3.4/site-packages/matplotlib/backends/backend_macosx.py\u001b[0m in \u001b[0;36mdraw_if_interactive\u001b[0;34m()\u001b[0m\n\u001b[1;32m    235\u001b[0m         \u001b[0mfigManager\u001b[0m \u001b[0;34m=\u001b[0m  \u001b[0mGcf\u001b[0m\u001b[0;34m.\u001b[0m\u001b[0mget_active\u001b[0m\u001b[0;34m(\u001b[0m\u001b[0;34m)\u001b[0m\u001b[0;34m\u001b[0m\u001b[0m\n\u001b[1;32m    236\u001b[0m         \u001b[0;32mif\u001b[0m \u001b[0mfigManager\u001b[0m \u001b[0;32mis\u001b[0m \u001b[0;32mnot\u001b[0m \u001b[0;32mNone\u001b[0m\u001b[0;34m:\u001b[0m\u001b[0;34m\u001b[0m\u001b[0m\n\u001b[0;32m--> 237\u001b[0;31m             \u001b[0mfigManager\u001b[0m\u001b[0;34m.\u001b[0m\u001b[0mcanvas\u001b[0m\u001b[0;34m.\u001b[0m\u001b[0minvalidate\u001b[0m\u001b[0;34m(\u001b[0m\u001b[0;34m)\u001b[0m\u001b[0;34m\u001b[0m\u001b[0m\n\u001b[0m\u001b[1;32m    238\u001b[0m \u001b[0;34m\u001b[0m\u001b[0m\n\u001b[1;32m    239\u001b[0m \u001b[0;34m\u001b[0m\u001b[0m\n",
        "\u001b[0;31mAttributeError\u001b[0m: 'FigureCanvasAgg' object has no attribute 'invalidate'"
       ]
      },
      {
       "metadata": {},
       "output_type": "display_data",
       "png": "[encoded data removed]",
       "text": [
        "<matplotlib.figure.Figure at 0x109c1df98>"
       ]
      }
     ],
     "prompt_number": 62
    },
    {
     "cell_type": "markdown",
     "metadata": {},
     "source": [
      "To analyze our data a little further, we will now use a simple Principal components analysis (PCA), which is a commonly used exploratory technique in stylometry. Luckily, it also comes with `sklearn`:"
     ]
    },
    {
     "cell_type": "code",
     "collapsed": false,
     "input": [
      "from sklearn.decomposition import PCA"
     ],
     "language": "python",
     "metadata": {},
     "outputs": []
    },
    {
     "cell_type": "markdown",
     "metadata": {},
     "source": [
      "We will plot our results into the first principal components, or dimensions which are return by the PCA:"
     ]
    },
    {
     "cell_type": "code",
     "collapsed": false,
     "input": [
      "pca = PCA(n_components=2)"
     ],
     "language": "python",
     "metadata": {},
     "outputs": []
    },
    {
     "cell_type": "markdown",
     "metadata": {},
     "source": [
      "To project our original 100 word frequency columns into the lower-dimensional space defined by the two principal components, we simply type:"
     ]
    },
    {
     "cell_type": "code",
     "collapsed": false,
     "input": [
      "X_reduced = pca.fit_transform(sel_X)\n",
      "print(X_reduced.shape)"
     ],
     "language": "python",
     "metadata": {},
     "outputs": []
    },
    {
     "cell_type": "markdown",
     "metadata": {},
     "source": [
      "To visualise the position of the samples by our two authors in this space, we make use of a simply scatterplot. We will make use of `matplotlib` library to this end. To import it, and make sure all graphs are properly displayed inside this notebook, we type:"
     ]
    },
    {
     "cell_type": "code",
     "collapsed": false,
     "input": [
      "import matplotlib\n",
      "import matplotlib.pyplot as plt\n",
      "%matplotlib inline"
     ],
     "language": "python",
     "metadata": {},
     "outputs": []
    },
    {
     "cell_type": "markdown",
     "metadata": {},
     "source": [
      "We now use each text's scores in the projected space as coordinates to plot them. Instead of plotting plain points, we will use the author labels:"
     ]
    },
    {
     "cell_type": "code",
     "collapsed": false,
     "input": [
      "fig, ax1 = plt.subplots()\n",
      "x1, x2 = X_reduced[:,0], X_reduced[:,1]\n",
      "ax1.scatter(x1, x2, 100, edgecolors='none', facecolors='none');\n",
      "for x, y, l in zip(x1, x2, sel_authors):\n",
      "    ax1.text(x, y, l, ha='center', va=\"center\", size=10, color=\"darkgrey\")"
     ],
     "language": "python",
     "metadata": {},
     "outputs": []
    },
    {
     "cell_type": "markdown",
     "metadata": {},
     "source": [
      "We now get the feature loadings, which are hidden insight the PCA object:"
     ]
    },
    {
     "cell_type": "code",
     "collapsed": false,
     "input": [
      "loadings = pca.components_\n",
      "print(loadings.shape)"
     ],
     "language": "python",
     "metadata": {},
     "outputs": []
    },
    {
     "cell_type": "markdown",
     "metadata": {},
     "source": [
      "It's convenient to transpose these:"
     ]
    },
    {
     "cell_type": "code",
     "collapsed": false,
     "input": [
      "loadings = loadings.transpose()\n",
      "print(loadings.shape)"
     ],
     "language": "python",
     "metadata": {},
     "outputs": []
    },
    {
     "cell_type": "code",
     "collapsed": false,
     "input": [
      "feature_names = vectorizer.get_feature_names()\n",
      "print(feature_names)"
     ],
     "language": "python",
     "metadata": {},
     "outputs": []
    },
    {
     "cell_type": "code",
     "collapsed": false,
     "input": [
      "matplotlib.rcParams['font.family'] = 'Arial'\n",
      "fig, ax1 = plt.subplots()\n",
      "x1, x2 = X_reduced[:,0], X_reduced[:,1]\n",
      "ax1.scatter(x1, x2, 100, edgecolors='none', facecolors='none');\n",
      "for x, y, l in zip(x1, x2, sel_authors):\n",
      "    ax1.text(x, y, l ,ha='center', va=\"center\", size=10, color=\"darkgrey\")\n",
      "ax2 = ax1.twinx().twiny()\n",
      "l1, l2 = loadings[:,0], loadings[:,1]\n",
      "ax2.scatter(l1, l2, 100, edgecolors='none', facecolors='none')\n",
      "for x,y,l in zip(l1, l2, feature_names):\n",
      "    ax2.text(x, y, l, ha='center', va=\"center\", size=10, color=\"black\")\n",
      "plt.show()"
     ],
     "language": "python",
     "metadata": {},
     "outputs": []
    },
    {
     "cell_type": "markdown",
     "metadata": {},
     "source": [
      "To get an idea of whether this is significant:"
     ]
    },
    {
     "cell_type": "code",
     "collapsed": false,
     "input": [
      "a1, a2 = [], []\n",
      "for coor, author in zip(x1, sel_authors):\n",
      "    if author == \"demosthenes\":\n",
      "        a1.append(coor)\n",
      "    else:\n",
      "        a2.append(coor)\n",
      "from scipy.stats import ks_2samp\n",
      "D, p = ks_2samp(a1, a2)\n",
      "print(D)\n",
      "print(p)"
     ],
     "language": "python",
     "metadata": {},
     "outputs": []
    },
    {
     "cell_type": "code",
     "collapsed": false,
     "input": [
      "To plot the difference:"
     ],
     "language": "python",
     "metadata": {},
     "outputs": []
    },
    {
     "cell_type": "code",
     "collapsed": false,
     "input": [
      "from pylab import *\n",
      "boxplot([a1, a2])"
     ],
     "language": "python",
     "metadata": {},
     "outputs": []
    },
    {
     "cell_type": "markdown",
     "metadata": {},
     "source": [
      "If we do the same thing for the second dimension:"
     ]
    },
    {
     "cell_type": "code",
     "collapsed": false,
     "input": [
      "a1, a2 = [], []\n",
      "for coor, author in zip(x2, sel_authors):\n",
      "    if author == \"demosthenes\":\n",
      "        a1.append(coor)\n",
      "    else:\n",
      "        a2.append(coor)\n",
      "from scipy.stats import ks_2samp\n",
      "D, p = ks_2samp(a1, a2)\n",
      "print(D)\n",
      "print(p)\n",
      "boxplot([a1, a2])"
     ],
     "language": "python",
     "metadata": {},
     "outputs": []
    },
    {
     "cell_type": "markdown",
     "metadata": {},
     "source": [
      "PCA has two advantages: straightforward significance + insight of loeadings\n"
     ]
    }
   ],
   "metadata": {}
  }
 ]
}